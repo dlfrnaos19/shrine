{
  "nbformat": 4,
  "nbformat_minor": 0,
  "metadata": {
    "colab": {
      "name": "워드클라우드 연구중",
      "provenance": [],
      "private_outputs": true,
      "authorship_tag": "ABX9TyM+5/NT3jw45IDLFYc0MYy8",
      "include_colab_link": true
    },
    "kernelspec": {
      "name": "python3",
      "display_name": "Python 3"
    }
  },
  "cells": [
    {
      "cell_type": "markdown",
      "metadata": {
        "id": "view-in-github",
        "colab_type": "text"
      },
      "source": [
        "<a href=\"https://colab.research.google.com/github/dlfrnaos19/shrine/blob/master/%EC%9B%8C%EB%93%9C%ED%81%B4%EB%9D%BC%EC%9A%B0%EB%93%9C_%EC%97%B0%EA%B5%AC%EC%A4%91.ipynb\" target=\"_parent\"><img src=\"https://colab.research.google.com/assets/colab-badge.svg\" alt=\"Open In Colab\"/></a>"
      ]
    },
    {
      "cell_type": "code",
      "metadata": {
        "id": "EAJLCUVXIMRj",
        "colab_type": "code",
        "colab": {}
      },
      "source": [
        " from konlpy.tag import Twitter \n",
        "from collections import Counter\n",
        " \n",
        "file = open(\"C:/Users/eunji_see/data/다이어리/감정별 텍스트/가치관.txt\", 'r') \n",
        "lists = file.readlines() \n",
        "file.close() \n",
        "lists\n",
        " \n",
        "twitter = Twitter() \n",
        "morphs = [] \n",
        "for sentence in lists:\n",
        "    morphs.append(twitter.pos(sentence)) \n",
        " \n",
        "print(morphs)\n",
        " \n",
        " \n",
        "noun_adj_adv_list=[] \n",
        "for sentence in morphs : \n",
        "    for word, tag in sentence:\n",
        "        if tag in ['Noun'] and (\"것\" not in word) and (\"내\" not in word)and (\"나\" not in word)and (\"수\"not in word) and(\"게\"not in word)and(\"말\"not in word):\n",
        "            noun_adj_adv_list.append(word) \n",
        " \n",
        "print(noun_adj_adv_list)\n",
        " \n",
        "count = Counter(noun_adj_adv_list)\n",
        "words = dict(count.most_common())"
      ],
      "execution_count": null,
      "outputs": []
    }
  ]
}